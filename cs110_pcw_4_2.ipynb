{
 "cells": [
  {
   "cell_type": "markdown",
   "metadata": {},
   "source": [
    "Before you turn this problem in, make sure everything runs as expected. First, **restart the kernel** (in the menubar, select Kernel$\\rightarrow$Restart) and then **run all cells** (in the menubar, select Cell$\\rightarrow$Run All).\n",
    "\n",
    "Make sure you fill in any place that says `YOUR CODE HERE` or \"YOUR ANSWER HERE\", as well as your name and collaborators below:"
   ]
  },
  {
   "cell_type": "code",
   "execution_count": 1,
   "metadata": {},
   "outputs": [],
   "source": [
    "NAME = \"Tiago Flora\"\n",
    "COLLABORATORS = \"Chloe Go\""
   ]
  },
  {
   "cell_type": "markdown",
   "metadata": {},
   "source": [
    "---"
   ]
  },
  {
   "cell_type": "markdown",
   "metadata": {
    "deletable": false,
    "editable": false,
    "nbgrader": {
     "checksum": "fe57a13a2ba710371e280641c9f21c35",
     "grade": false,
     "grade_id": "cell-90b6f68e307cf4d7",
     "locked": true,
     "schema_version": 1,
     "solution": false
    }
   },
   "source": [
    "# CS110 Pre-class Work 4.2\n",
    "\n",
    "## Part A. The Hire-Assistant Problem.\n",
    "\n",
    "Imagine that you need to hire a new assistant. Every day an agency sends a new assistant for you to interview. If the assistant is better than your current assistant, then you fire your current assistant and you hire the better assistant. You may assume that assistant quality is uniformly distributed between 0 and 1.\n",
    "\n",
    "## Question 1.\n",
    "Write a function, named hire_assistant, that takes applicants (a list of the numbers that represent the level of qualification of the applicants; the higher the number, the better qualified), and returns the number hires if the applicants are presented in the exact same order as the input list applicants. Note that your function should not randomize anything (or else it would be called a randomized algorithm)."
   ]
  },
  {
   "cell_type": "code",
   "execution_count": 2,
   "metadata": {
    "deletable": false,
    "nbgrader": {
     "checksum": "3e823066b88c3701b5aa6feb0b29ea00",
     "grade": false,
     "grade_id": "cell-d011f5f4707fe41a",
     "locked": false,
     "schema_version": 1,
     "solution": true
    }
   },
   "outputs": [],
   "source": [
    "def hire_assistant(applicants):\n",
    "    \"\"\"\n",
    "    Return the number of assistant hired.\n",
    "    Inputs:\n",
    "    - applicants: a list of the numbers that represent the level of qualification of \n",
    "    the applicants; the higher the number, the better qualified\n",
    "    \n",
    "    Outputs:\n",
    "    - hires: Number of assistants hired\n",
    "    \"\"\"\n",
    "    best = -float('inf') # We initialize the 'best' indicator by making it the smallest possible value\n",
    "    n_hired = 0 # We initialize counting the number of hires\n",
    "    \n",
    "    for i in applicants: # We compare every applicant to what we store as the best, and replace \n",
    "        if i >= best:\n",
    "            best = i\n",
    "            n_hired += 1\n",
    "    return(n_hired) # Output is the number we hired"
   ]
  },
  {
   "cell_type": "code",
   "execution_count": 3,
   "metadata": {
    "deletable": false,
    "editable": false,
    "nbgrader": {
     "checksum": "1cf91a3b99ed87bfe9ea81d9a9252e16",
     "grade": true,
     "grade_id": "cell-66778b97ad66f71e",
     "locked": true,
     "points": 1,
     "schema_version": 1,
     "solution": false
    }
   },
   "outputs": [],
   "source": [
    "assert(hire_assistant([1])==1)\n",
    "assert(hire_assistant([-1, -2, -3, -4])==1)"
   ]
  },
  {
   "cell_type": "markdown",
   "metadata": {
    "deletable": false,
    "editable": false,
    "nbgrader": {
     "checksum": "950e8b4c047988bb6493460be72d1bc7",
     "grade": false,
     "grade_id": "cell-e5d810828093b20d",
     "locked": true,
     "schema_version": 1,
     "solution": false
    }
   },
   "source": [
    "## Question 2. \n",
    "Assuming the applicants are presented in a random order, write a function that receives the number of applicants as input and returns the average number of assistants hired.\n",
    "\n",
    "**N.B.:** Don’t forget to run the simulation several times for each given number of applicants to better estimate the number of hires (please refer to task 3 of the Study Guide)."
   ]
  },
  {
   "cell_type": "code",
   "execution_count": 4,
   "metadata": {
    "deletable": false,
    "nbgrader": {
     "checksum": "7038d9d8cc9239d5ca15f5d21aa986e3",
     "grade": true,
     "grade_id": "cell-b223520ca72942a0",
     "locked": false,
     "points": 0,
     "schema_version": 1,
     "solution": true
    }
   },
   "outputs": [],
   "source": [
    "import random # Import the random library to build different lists of applicants\n",
    "def experimental_hires(N):\n",
    "    \"\"\"\n",
    "    Input: Number of applicants\n",
    "    \n",
    "    Output: Average number of hires for a list with a number N of applicants\n",
    "    \"\"\"\n",
    "    hires = [] # Initialize the list of hired applicants\n",
    "    for i in range(100): # Get 100 different samples for every input list\n",
    "        applicants = [] # Initialize what will be a random list of applicant scores\n",
    "        \n",
    "        for i in range(N): # Add a random score to the applicant score list\n",
    "            n = random.randint(1,100*N)\n",
    "            applicants.append(n)\n",
    "        hires.append(hire_assistant(applicants)) # Add the hired applicants of that list to the hires list\n",
    "    return(sum(hires)/len(hires)) # Return the average number of hires for a given number of applicants"
   ]
  },
  {
   "cell_type": "code",
   "execution_count": 5,
   "metadata": {},
   "outputs": [
    {
     "data": {
      "text/plain": [
       "5.06"
      ]
     },
     "execution_count": 5,
     "metadata": {},
     "output_type": "execute_result"
    }
   ],
   "source": [
    "experimental_hires(100)"
   ]
  },
  {
   "cell_type": "markdown",
   "metadata": {
    "deletable": false,
    "editable": false,
    "nbgrader": {
     "checksum": "7f78b31a96cb5ddc8eb534ab037d9fee",
     "grade": false,
     "grade_id": "cell-a55a7b3d12ef78bb",
     "locked": true,
     "schema_version": 1,
     "solution": false
    }
   },
   "source": [
    "## Question 3.\n",
    "\n",
    "Use the function below, `analytical_hires(N)`, which returns the analytical expected number of hires, given the number of applicants, along with the function you created in question 2 to create a graph with two curves such that:\n",
    "* The x-axis shows the total number of applicants (make sure label the x-axis)\n",
    "* The y-axis shows the average number of hires (make sure label the y-axis)\n",
    "* The graph contains two curves;\n",
    "    * Curve 1: the theoretical performance estimates computed calls to the function `analytical_hires`.\n",
    "    * Curve 2: the simulated or experimental estimates using the function you created in question 2.\n"
   ]
  },
  {
   "cell_type": "code",
   "execution_count": 6,
   "metadata": {
    "deletable": false,
    "editable": false,
    "nbgrader": {
     "checksum": "1e514458253b863a6c69ce09ccd2d9de",
     "grade": false,
     "grade_id": "cell-4092502cb05933d4",
     "locked": true,
     "schema_version": 1,
     "solution": false
    }
   },
   "outputs": [],
   "source": [
    "def analytical_hires(N):\n",
    "    \"\"\"\n",
    "    Return the analytical expected number of hires if there are N applicants\n",
    "    Inputs:\n",
    "    - N: Number of applicants\n",
    "    Outputs:\n",
    "    - hires: Average number of assistants hired\n",
    "    \"\"\"\n",
    "    # from the textbook, we know that the analytical result is \n",
    "    # 1 + 1/2 + 1/3 + ... + 1/N\n",
    "    hires = 0\n",
    "    for n in range(N):\n",
    "        hires += 1/(n+1)\n",
    "    return hires"
   ]
  },
  {
   "cell_type": "code",
   "execution_count": 7,
   "metadata": {
    "deletable": false,
    "nbgrader": {
     "checksum": "055b3a48707a83f9330ab3b00c45144a",
     "grade": true,
     "grade_id": "cell-f9c07920c069ce20",
     "locked": false,
     "points": 0,
     "schema_version": 1,
     "solution": true
    }
   },
   "outputs": [],
   "source": [
    "import matplotlib.pyplot as plt"
   ]
  },
  {
   "cell_type": "code",
   "execution_count": 8,
   "metadata": {},
   "outputs": [],
   "source": [
    "# Initialize lists to store the number of hired applicants for every number of applicants in a range\n",
    "exp_hires = []\n",
    "analyt_hires = []\n",
    "n_applicants = list(range(100))\n",
    "\n",
    "for i in range(100):\n",
    "    # Add the number of hired applicants per number of applicants\n",
    "    exp_hires.append(experimental_hires(i))\n",
    "    analyt_hires.append(analytical_hires(i))"
   ]
  },
  {
   "cell_type": "code",
   "execution_count": 9,
   "metadata": {},
   "outputs": [
    {
     "data": {
      "image/png": "[encoded data removed]",
      "text/plain": [
       "<Figure size 432x288 with 1 Axes>"
      ]
     },
     "metadata": {
      "needs_background": "light"
     },
     "output_type": "display_data"
    }
   ],
   "source": [
    "%matplotlib inline\n",
    "\n",
    "plt.plot(n_applicants, exp_hires, label = \"Experimental hires\")\n",
    "plt.plot(n_applicants, analyt_hires, label = \"Analytical hires\")\n",
    "\n",
    "plt.xlabel('Number of applicants')\n",
    "plt.ylabel('Expected number of hires')\n",
    "plt.title('Graph 1 \\n Experimental v Analytical Expected Number of Hires')\n",
    "plt.legend()\n",
    "plt.show()"
   ]
  },
  {
   "cell_type": "markdown",
   "metadata": {
    "deletable": false,
    "editable": false,
    "nbgrader": {
     "checksum": "f5c0fc54ac7e38140eacf7a0d3877a00",
     "grade": false,
     "grade_id": "cell-8720f8d8a6a98422",
     "locked": true,
     "schema_version": 1,
     "solution": false
    }
   },
   "source": [
    "## Question 4.\n",
    "\n",
    "Plot a graph with the x-axis showing the total number of applicants and the y-axis showing the probability that exactly one assistant is hired."
   ]
  },
  {
   "cell_type": "code",
   "execution_count": 10,
   "metadata": {
    "deletable": false,
    "nbgrader": {
     "checksum": "99500575978918dad34be4dfe49fff36",
     "grade": true,
     "grade_id": "cell-d3fe1b7d6d175ad7",
     "locked": false,
     "points": 0,
     "schema_version": 1,
     "solution": true
    }
   },
   "outputs": [],
   "source": [
    "def exp_one_hire(N):\n",
    "    probabilities = [] # Initialize a list of probabilities \n",
    "    \n",
    "    for j in range(1, 101): # Set a range for the number of experiments you wish to run\n",
    "        hires = 0 # Start a hiring counter\n",
    "        applicants = [] # Initialize the list of applicants again\n",
    "        \n",
    "        for i in range(N):\n",
    "            n = random.randint(1,100*N)\n",
    "            applicants.append(n)\n",
    "            \n",
    "        # We count all the lists that are created where the hiring process will only return one hired applicant\n",
    "        if hire_assistant(applicants) == 1:\n",
    "            hires += 1\n",
    "        probabilities.append(hires/(N+1)) # Input all probabilities into the list\n",
    "    return(sum(probabilities)/len(probabilities)) # Return an average probability of a hire"
   ]
  },
  {
   "cell_type": "code",
   "execution_count": 11,
   "metadata": {},
   "outputs": [],
   "source": [
    "probs = []\n",
    "analyt_probs = []\n",
    "\n",
    "# Add probabilities from both the experimental and analytical approaches\n",
    "for i in range(1, len(n_applicants)+1):\n",
    "    probs.append(exp_one_hire(i))\n",
    "    analyt_probs.append(1/(1+i))"
   ]
  },
  {
   "cell_type": "code",
   "execution_count": 12,
   "metadata": {},
   "outputs": [
    {
     "data": {
      "image/png": "[encoded data removed]",
      "text/plain": [
       "<Figure size 432x288 with 1 Axes>"
      ]
     },
     "metadata": {
      "needs_background": "light"
     },
     "output_type": "display_data"
    }
   ],
   "source": [
    "%matplotlib inline\n",
    "\n",
    "plt.plot(n_applicants, probs, label = \"Experimental hires\")\n",
    "plt.plot(n_applicants, analyt_probs, label = \"Analytic hires\")\n",
    "\n",
    "plt.xlabel('Number of applicants')\n",
    "plt.ylabel('Probability of having one hired applicant')\n",
    "plt.title('Graph 1 \\n Experimental probability of hiring one applicant')\n",
    "plt.legend()\n",
    "plt.show()"
   ]
  },
  {
   "cell_type": "markdown",
   "metadata": {
    "deletable": false,
    "editable": false,
    "nbgrader": {
     "checksum": "5721e2312411a707d06a42f45aa28d6a",
     "grade": false,
     "grade_id": "cell-2bd2500c3ca4cf02",
     "locked": true,
     "schema_version": 1,
     "solution": false
    }
   },
   "source": [
    "## [Optional] Question 5.\n",
    "Assume that an assistant is able to perform an amount of work each day that is equal to their “quality”. You have a total amount of work M that needs to be accomplished. Your costs are as follows:\n",
    "* X = daily salary for the assistant,\n",
    "* Y = fee to the employment agency,\n",
    "* Z = retrenchment fee for the old assistant.\n",
    "\n",
    "Try to formulate an optimal stopping rule (i.e., at what point should one stop requesting new potential hires from the agency?) Make any necessary assumptions to ensure the problem is well-formulated.\n"
   ]
  },
  {
   "cell_type": "code",
   "execution_count": 13,
   "metadata": {
    "deletable": false,
    "nbgrader": {
     "checksum": "43b6a51878665a39b0ede1313448eaa6",
     "grade": true,
     "grade_id": "cell-af2f0291eced6982",
     "locked": false,
     "points": 0,
     "schema_version": 1,
     "solution": true
    }
   },
   "outputs": [
    {
     "ename": "NotImplementedError",
     "evalue": "",
     "output_type": "error",
     "traceback": [
      "\u001b[1;31m---------------------------------------------------------------------------\u001b[0m",
      "\u001b[1;31mNotImplementedError\u001b[0m                       Traceback (most recent call last)",
      "\u001b[1;32m<ipython-input-13-15b94d1fa268>\u001b[0m in \u001b[0;36m<module>\u001b[1;34m\u001b[0m\n\u001b[0;32m      1\u001b[0m \u001b[1;31m# YOUR CODE HERE\u001b[0m\u001b[1;33m\u001b[0m\u001b[1;33m\u001b[0m\u001b[1;33m\u001b[0m\u001b[0m\n\u001b[1;32m----> 2\u001b[1;33m \u001b[1;32mraise\u001b[0m \u001b[0mNotImplementedError\u001b[0m\u001b[1;33m(\u001b[0m\u001b[1;33m)\u001b[0m\u001b[1;33m\u001b[0m\u001b[1;33m\u001b[0m\u001b[0m\n\u001b[0m",
      "\u001b[1;31mNotImplementedError\u001b[0m: "
     ]
    }
   ],
   "source": [
    "# YOUR CODE HERE\n",
    "raise NotImplementedError()"
   ]
  },
  {
   "cell_type": "markdown",
   "metadata": {
    "deletable": false,
    "editable": false,
    "nbgrader": {
     "checksum": "33ac7721d636faf76ce7bdbda1b443d6",
     "grade": false,
     "grade_id": "cell-92211f5b42929c46",
     "locked": true,
     "schema_version": 1,
     "solution": false
    }
   },
   "source": [
    "## Part B. The Hat Check Problem.\n",
    "\n",
    "There is a coat check at a party, where an attendant stores everyone’s hat while they attend the party. The attendant receives the N hats from everyone attending (all attendees come with a hat). Unfortunately, the coat check attendant forgets which hat belongs to whom. Rather than admitting a mistake, the attendant simply returns random hats back to the party-goers. \n",
    "\n",
    "What is the average number of correct hats returned? Here are some guiding questions to help you to simulate this problem. \n",
    "\n",
    "## Question 1. \n",
    "Knowing that everyone’s hats are unique and every guest has a hat. Do you need to generate a random sample in a similar way as what you did for the hiring assistant problem? "
   ]
  },
  {
   "cell_type": "markdown",
   "metadata": {
    "deletable": false,
    "nbgrader": {
     "checksum": "259c6115bee56676178f28ab36d6db2f",
     "grade": true,
     "grade_id": "cell-e786799fc4eb1499",
     "locked": false,
     "points": 0,
     "schema_version": 1,
     "solution": true
    }
   },
   "source": [
    "We wouldn't have to generate a random sample, but rather a shuffled version of the list of hats (i.e. a random order on which the hats are returned) to assess the average number of correctly returned hats."
   ]
  },
  {
   "cell_type": "markdown",
   "metadata": {
    "deletable": false,
    "editable": false,
    "nbgrader": {
     "checksum": "c9f8182f3dd59f572cb797f373fb7464",
     "grade": false,
     "grade_id": "cell-e2f68e2bd4c2d099",
     "locked": true,
     "schema_version": 1,
     "solution": false
    }
   },
   "source": [
    "## Question 2. \n",
    "Which of the following commands do you think is the Pythonic way to implement that? \n",
    "```\n",
    "import numpy as np\n",
    "n = 100 #the number of party attendants `\n",
    "```\n",
    "**Command 1. **\n",
    "```\n",
    "hat_list = [np.random.integers(0,n) for i in range(n)]`\n",
    "```\n",
    "**Command 2.**\n",
    "```\n",
    "hat_list = list(range(n)) \n",
    "np.random.shuffle(hat_list) \n",
    "```\n",
    "**Command 3.**\n",
    "```\n",
    "hat_list = np.random.sample(n)\n",
    "```"
   ]
  },
  {
   "cell_type": "markdown",
   "metadata": {
    "deletable": false,
    "nbgrader": {
     "checksum": "b5e83025692b2772640e9e58f0f36af1",
     "grade": true,
     "grade_id": "cell-b8da78e72c1c0738",
     "locked": false,
     "points": 0,
     "schema_version": 1,
     "solution": true
    }
   },
   "source": [
    "The second command is the Pythonic way of implementing the shuffle we need. The numpy method used moves the objects inside hat_list and place them randomly, doing the shuffle we described in question 1. At first, the command generates a list of integers (potentially numbering hats by order of arrival), and then shuffles all those integers.\n"
   ]
  },
  {
   "cell_type": "markdown",
   "metadata": {
    "deletable": false,
    "editable": false,
    "nbgrader": {
     "checksum": "ec25d5c32cc709928fa50666f21d9808",
     "grade": false,
     "grade_id": "cell-8915979a0b8cf6ce",
     "locked": true,
     "schema_version": 1,
     "solution": false
    }
   },
   "source": [
    "## Question 3.\n",
    "Now write a function `hat_check(N)` that has: \n",
    "* Input: N the number of party attendants. \n",
    "* Output: the number of hats correctly returned despite the fact that hats are randomly handed back to the guests.\n",
    "\n",
    "You should use the command you picked for question 2. "
   ]
  },
  {
   "cell_type": "code",
   "execution_count": 14,
   "metadata": {
    "deletable": false,
    "nbgrader": {
     "checksum": "c37f6cdc2ca8cbb92644fa2746445779",
     "grade": true,
     "grade_id": "cell-c8499aeb1b1d76c7",
     "locked": false,
     "points": 0,
     "schema_version": 1,
     "solution": true
    }
   },
   "outputs": [],
   "source": [
    "import numpy as np\n",
    "\n",
    "def hat_check(N):\n",
    "    # Define a variable that will count how many hats were returned correctly for a given party size\n",
    "    correct_hats = 0\n",
    "    \n",
    "    # Define a list that will span all party-goers and their hats\n",
    "    hat_list = list(range(N))\n",
    "    \n",
    "    # Shuffle the list\n",
    "    np.random.shuffle(hat_list)\n",
    "    \n",
    "    # Check if the shuffled  elements have the same index as their value, which would point to a hat being correct\n",
    "    for i in hat_list:\n",
    "        if hat_list[i] == i:\n",
    "            correct_hats += 1\n",
    "    return(correct_hats)"
   ]
  },
  {
   "cell_type": "code",
   "execution_count": 15,
   "metadata": {},
   "outputs": [
    {
     "data": {
      "text/plain": [
       "1"
      ]
     },
     "execution_count": 15,
     "metadata": {},
     "output_type": "execute_result"
    }
   ],
   "source": [
    "hat_check(100)"
   ]
  },
  {
   "cell_type": "markdown",
   "metadata": {
    "deletable": false,
    "editable": false,
    "nbgrader": {
     "checksum": "1ff8b95312de63513a2107ffb7ab9d5a",
     "grade": false,
     "grade_id": "cell-086d4cc0fc5b0155",
     "locked": true,
     "schema_version": 1,
     "solution": false
    }
   },
   "source": [
    "## Question 4.\n",
    "\n",
    "Plot a curve with the x-axis showing the total number of party attendants and the y-axis showing the average number of hats correctly returned. As always, remember to run several trials. "
   ]
  },
  {
   "cell_type": "code",
   "execution_count": 16,
   "metadata": {
    "deletable": false,
    "nbgrader": {
     "checksum": "c4d1251529b962f3d3ce28f6ac9f244e",
     "grade": true,
     "grade_id": "cell-597031ea2a5a512a",
     "locked": false,
     "points": 0,
     "schema_version": 1,
     "solution": true
    }
   },
   "outputs": [],
   "source": [
    "# Define variables for the number of trials and the party size\n",
    "n_trials = 100\n",
    "N = 100\n",
    "hats = []\n",
    "\n",
    "# Do a hat check for a range of party sizes a number of times to average them out\n",
    "for i in range(n_trials):\n",
    "    corr_hats = []\n",
    "    for j in range(N):\n",
    "        corr_hats.append(hat_check(i))\n",
    "    hats.append(sum(corr_hats)/len(corr_hats))\n"
   ]
  },
  {
   "cell_type": "code",
   "execution_count": 17,
   "metadata": {},
   "outputs": [
    {
     "data": {
      "image/png": "[encoded data removed]",
      "text/plain": [
       "<Figure size 432x288 with 1 Axes>"
      ]
     },
     "metadata": {
      "needs_background": "light"
     },
     "output_type": "display_data"
    }
   ],
   "source": [
    "plt.plot(list(range(N)), hats, label = \"Hats\")\n",
    "\n",
    "plt.xlabel('Total number of party attendants')\n",
    "plt.ylabel('Average number of hats correctly returned')\n",
    "plt.title('Graph 1 \\n Correct hats per party size')\n",
    "plt.legend()\n",
    "plt.show()"
   ]
  },
  {
   "cell_type": "markdown",
   "metadata": {
    "deletable": false,
    "editable": false,
    "nbgrader": {
     "checksum": "aad5d529ed9af56148bfc12691cdb950",
     "grade": false,
     "grade_id": "cell-f74b2078132a5177",
     "locked": true,
     "schema_version": 1,
     "solution": false
    }
   },
   "source": [
    "## [Optional] Question 5.\n",
    "As $N$ tends to infinity, the number of correct hats returned tends towards a well-known statistical distribution. State the distribution with all its parameters. Plot several samples using your code. Does the empirical distribution match your theoretical prediction?"
   ]
  },
  {
   "cell_type": "markdown",
   "metadata": {
    "deletable": false,
    "nbgrader": {
     "checksum": "33f94a80e6d5d9c371e6c39790bd67eb",
     "grade": true,
     "grade_id": "cell-32fe26c1d99fdd2a",
     "locked": false,
     "points": 0,
     "schema_version": 1,
     "solution": true
    }
   },
   "source": [
    "YOUR ANSWER HERE"
   ]
  }
 ],
 "metadata": {
  "kernelspec": {
   "display_name": "Python 3",
   "language": "python",
   "name": "python3"
  },
  "language_info": {
   "codemirror_mode": {
    "name": "ipython",
    "version": 3
   },
   "file_extension": ".py",
   "mimetype": "text/x-python",
   "name": "python",
   "nbconvert_exporter": "python",
   "pygments_lexer": "ipython3",
   "version": "3.7.3"
  }
 },
 "nbformat": 4,
 "nbformat_minor": 2
}
