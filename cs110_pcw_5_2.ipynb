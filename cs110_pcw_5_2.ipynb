{
 "cells": [
  {
   "cell_type": "markdown",
   "metadata": {},
   "source": [
    "Before you turn this problem in, make sure everything runs as expected. First, **restart the kernel** (in the menubar, select Kernel$\\rightarrow$Restart) and then **run all cells** (in the menubar, select Cell$\\rightarrow$Run All).\n",
    "\n",
    "Make sure you fill in any place that says `YOUR CODE HERE` or \"YOUR ANSWER HERE\", as well as your name and collaborators below:"
   ]
  },
  {
   "cell_type": "code",
   "execution_count": 1,
   "metadata": {},
   "outputs": [],
   "source": [
    "NAME = \"Tiago Flora\"\n",
    "COLLABORATORS = \"Chloe Go\""
   ]
  },
  {
   "cell_type": "markdown",
   "metadata": {},
   "source": [
    "---"
   ]
  },
  {
   "cell_type": "markdown",
   "metadata": {
    "deletable": false,
    "editable": false,
    "nbgrader": {
     "checksum": "1a4c3cfc3c34bf644ee45d91835b6f70",
     "grade": false,
     "grade_id": "cell-61b183447ded09ef",
     "locked": true,
     "schema_version": 1,
     "solution": false
    }
   },
   "source": [
    "# CS110 Pre-class Work 5.2\n",
    "\n",
    "## Question 1.\n",
    "Using Figure 7.1 in Cormen et al. as a model, perform manually the partition process on the following list: A = [1,5,6,2,3,8,9,4,7]. You just need to specify the followings:\n",
    "1. The array after the process is done.\n",
    "2. The value of $i$ after the process is done."
   ]
  },
  {
   "cell_type": "markdown",
   "metadata": {
    "deletable": false,
    "nbgrader": {
     "checksum": "06dce98d07f8f042785a795b32e7ef75",
     "grade": true,
     "grade_id": "cell-7aa520f8af13679b",
     "locked": false,
     "points": 0,
     "schema_version": 1,
     "solution": true
    }
   },
   "source": [
    "![partition](https://i.ibb.co/G9vsh5m/CS110-5-2-PCW.jpg)"
   ]
  },
  {
   "cell_type": "markdown",
   "metadata": {
    "deletable": false,
    "editable": false,
    "nbgrader": {
     "checksum": "21059776e9083caf84e8abb5b6fb893e",
     "grade": false,
     "grade_id": "cell-6c0a9dfd6980c336",
     "locked": true,
     "schema_version": 1,
     "solution": false
    }
   },
   "source": [
    "## Question 2.\n",
    "Code up a Python implementation of `partition(A, p, r)`, closely follow the pseudo-code in Cormen et al., p.172. Your function should return the index of the pivot in the array."
   ]
  },
  {
   "cell_type": "code",
   "execution_count": 2,
   "metadata": {
    "deletable": false,
    "nbgrader": {
     "checksum": "395997ac94ed1416c67b22f7977c07a5",
     "grade": false,
     "grade_id": "cell-1ceb2600756c60ff",
     "locked": false,
     "schema_version": 1,
     "solution": true
    }
   },
   "outputs": [],
   "source": [
    "def partition(A,p,r):\n",
    "    \"\"\"\n",
    "    Assume r<len(A) and p>=0\n",
    "    \"\"\"\n",
    "    # Determine a pivot to compare elements and define groups later on\n",
    "    x = A[r]\n",
    "    i = p-1\n",
    "    \n",
    "    # We compare all elements in the (sub)array to the pivot\n",
    "    for j in range(p, r):\n",
    "        # If an element is smaller than the pivot, we increment the second marker (i) and swap the elements\n",
    "        # in the j-th and i-th positions\n",
    "        if A[j] <= x:\n",
    "            # Increment i and swap elements\n",
    "            i += 1\n",
    "            A[i], A[j] = A[j], A[i]\n",
    "    \n",
    "    # When we reach the end of array, we swap the pivot with the first element of the \"larger\" group\n",
    "    A[i+1], A[r] = A[r], A[i+1]\n",
    "    \n",
    "    # Return the final position of the pivot in the array\n",
    "    return(i+1)"
   ]
  },
  {
   "cell_type": "code",
   "execution_count": 3,
   "metadata": {
    "deletable": false,
    "editable": false,
    "nbgrader": {
     "checksum": "34aa315313b6f9d8de8efe0922e5b563",
     "grade": true,
     "grade_id": "cell-a57b60117a7b82fb",
     "locked": true,
     "points": 1,
     "schema_version": 1,
     "solution": false
    }
   },
   "outputs": [],
   "source": [
    "A = [1,5,6,2,3,8,9,4,7]\n",
    "assert(partition(A, 0, len(A)-1)==6)"
   ]
  },
  {
   "cell_type": "markdown",
   "metadata": {
    "deletable": false,
    "editable": false,
    "nbgrader": {
     "checksum": "3496e310776eba92a8290d114db627cd",
     "grade": false,
     "grade_id": "cell-cd490c45f6733522",
     "locked": true,
     "schema_version": 1,
     "solution": false
    }
   },
   "source": [
    "## Question 3.\n",
    "\n",
    "Code up your own Python implementation of `quicksort(A, p, r)`, using `partition(A,p,r)`."
   ]
  },
  {
   "cell_type": "code",
   "execution_count": 4,
   "metadata": {
    "deletable": false,
    "nbgrader": {
     "checksum": "7e40c51fd1bd31c790aa0dd8abde1fb7",
     "grade": false,
     "grade_id": "cell-8c39ebb8cd1aa83a",
     "locked": false,
     "schema_version": 1,
     "solution": true
    }
   },
   "outputs": [],
   "source": [
    "def quick_sort(A,p,r):\n",
    "    \"\"\"\n",
    "    Inputs: \n",
    "    A: An array to be sorted\n",
    "    p: The index from which we want to sort (usually 0)\n",
    "    r: The index of the last element we want to sort\n",
    "    \n",
    "    Quicksort recursively calls itself to partition the array into smaller subarrays\n",
    "    of \"larger\" and \"smaller\" elements compared to their pivots of reference\n",
    "    \"\"\"\n",
    "    # Termination condition of the recursion is having p = r\n",
    "    if p < r:\n",
    "        \n",
    "        # Call on partition to divide the array into smaller subarrays (divide step)\n",
    "        q = partition(A,p,r)\n",
    "        \n",
    "        # Recursively call on quick_sort for the two groups obtained in each partition\n",
    "        quick_sort(A,p,q-1)\n",
    "        quick_sort(A,q+1,r)\n",
    "    \n",
    "    # Return the sorted array\n",
    "    return(A)"
   ]
  },
  {
   "cell_type": "code",
   "execution_count": 5,
   "metadata": {
    "deletable": false,
    "editable": false,
    "nbgrader": {
     "checksum": "80923d1142f0ef958a616db1105a8c1a",
     "grade": true,
     "grade_id": "cell-4f822430efd456ee",
     "locked": true,
     "points": 1,
     "schema_version": 1,
     "solution": false
    }
   },
   "outputs": [],
   "source": [
    "A = [0]\n",
    "assert(quick_sort(A, 0, 0) == [0])\n",
    "A = [3,1,2]\n",
    "assert(quick_sort(A, 0, 2) == [1,2,3])"
   ]
  },
  {
   "cell_type": "markdown",
   "metadata": {
    "deletable": false,
    "editable": false,
    "nbgrader": {
     "checksum": "741cfe874ccaef343713f81ec963360c",
     "grade": false,
     "grade_id": "cell-53941fba9302c591",
     "locked": true,
     "schema_version": 1,
     "solution": false
    }
   },
   "source": [
    "## Question 4. \n",
    "Explain (using experimental plots) the running time of `quick_sort` when: \n",
    "1. all elements of array A have the same value (e.g., [1,1,1])?\n",
    "2. array A contains distinct elements sorted in decreasing order (e.g., [5,4,2,1])?\n"
   ]
  },
  {
   "cell_type": "code",
   "execution_count": 6,
   "metadata": {
    "deletable": false,
    "nbgrader": {
     "checksum": "f5ddaf0e684d72d229df078b18f321f8",
     "grade": true,
     "grade_id": "cell-b58035dd5fa02329",
     "locked": false,
     "points": 0,
     "schema_version": 1,
     "solution": true
    }
   },
   "outputs": [],
   "source": [
    "import time\n",
    "import matplotlib.pyplot as plt"
   ]
  },
  {
   "cell_type": "code",
   "execution_count": 12,
   "metadata": {},
   "outputs": [],
   "source": [
    "# 1. Create list for running times when all elements have the same value\n",
    "time_samevalues = []\n",
    "\n",
    "# 2. Create another list for running times when elements are in descending order\n",
    "time_descending = []\n",
    "\n",
    "for k in range(1,101): # Running loop to create 30 lists\n",
    "    \n",
    "    # Create a list with the same elements\n",
    "    list_samevalues = [1 for i in range(k*10)] \n",
    "    \n",
    "    # Create another list with descending elements\n",
    "    list_descending = list(range(k*10, 0, -1))\n",
    "    \n",
    "    # Time metering for a list of equal inputs\n",
    "    starting_time_same = time.time()\n",
    "    quick_sort(list_samevalues, 0, len(list_samevalues)-1)\n",
    "    ending_time_same = time.time()\n",
    "    time_samevalues.append(ending_time_same - starting_time_same)\n",
    "    \n",
    "    # Time metering for a list of descending inputs\n",
    "    starting_time_desc = time.time()\n",
    "    quick_sort(list_descending, 0, len(list_descending)-1)\n",
    "    ending_time_desc = time.time()\n",
    "    time_descending.append(ending_time_desc - starting_time_desc)"
   ]
  },
  {
   "cell_type": "code",
   "execution_count": 14,
   "metadata": {},
   "outputs": [
    {
     "data": {
      "image/png": "[encoded data removed]",
      "text/plain": [
       "<Figure size 432x288 with 1 Axes>"
      ]
     },
     "metadata": {
      "needs_background": "light"
     },
     "output_type": "display_data"
    }
   ],
   "source": [
    "%matplotlib inline\n",
    "\n",
    "n = list(range(1, 101))\n",
    "\n",
    "plt.plot(n, time_samevalues, label = \"Same values\")\n",
    "plt.plot(n, time_descending, label = \"Descending\")\n",
    "\n",
    "plt.xlabel('Input size / 10')\n",
    "plt.ylabel('Running time (s)')\n",
    "plt.title('Running times for quicksort for different inputs')\n",
    "plt.legend()\n",
    "plt.show()"
   ]
  },
  {
   "cell_type": "markdown",
   "metadata": {},
   "source": [
    "As the plot shows, when we have input arrays with all same values, the running time is higher than if the array is given with decreasing order of elements, which in other algorithms is a worst-case input. <br>\n",
    "That's the case because of the operations quicksort makes whenever it compares similar elements. Because it will keep swapping the same elements at every iteration of the partition procedure, which is not the case with a descending-order array, the computation takes measurably longer time for a the sorted list of equal elements than for the \"completely\" unsorted array of descending elements."
   ]
  }
 ],
 "metadata": {
  "kernelspec": {
   "display_name": "Python 3",
   "language": "python",
   "name": "python3"
  },
  "language_info": {
   "codemirror_mode": {
    "name": "ipython",
    "version": 3
   },
   "file_extension": ".py",
   "mimetype": "text/x-python",
   "name": "python",
   "nbconvert_exporter": "python",
   "pygments_lexer": "ipython3",
   "version": "3.7.3"
  }
 },
 "nbformat": 4,
 "nbformat_minor": 2
}
