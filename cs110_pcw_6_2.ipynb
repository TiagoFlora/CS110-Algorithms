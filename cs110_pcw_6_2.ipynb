{
 "cells": [
  {
   "cell_type": "markdown",
   "metadata": {},
   "source": [
    "Before you turn this problem in, make sure everything runs as expected. First, **restart the kernel** (in the menubar, select Kernel$\\rightarrow$Restart) and then **run all cells** (in the menubar, select Cell$\\rightarrow$Run All).\n",
    "\n",
    "Make sure you fill in any place that says `YOUR CODE HERE` or \"YOUR ANSWER HERE\", as well as your name and collaborators below:"
   ]
  },
  {
   "cell_type": "code",
   "execution_count": 1,
   "metadata": {},
   "outputs": [],
   "source": [
    "NAME = \"Tiago Flora\"\n",
    "COLLABORATORS = \"Ba Thien\""
   ]
  },
  {
   "cell_type": "markdown",
   "metadata": {},
   "source": [
    "---"
   ]
  },
  {
   "cell_type": "markdown",
   "metadata": {
    "deletable": false,
    "editable": false,
    "nbgrader": {
     "checksum": "499babfdbdc05aec285e42abdf82edd4",
     "grade": false,
     "grade_id": "cell-f534ec91df9dff5f",
     "locked": true,
     "schema_version": 1,
     "solution": false
    }
   },
   "source": [
    "# CS110 Pre-class Work 6.2\n",
    "\n",
    "## Part A. Median-of-3 partitioning quicksort \n",
    "\n",
    "## Question 1.\n",
    "\n",
    "Read through the following Python code. What does each function (i.e., median, qsort, randomized_qsort, test_qsort) do? Comment in details each function. \n"
   ]
  },
  {
   "cell_type": "code",
   "execution_count": 2,
   "metadata": {},
   "outputs": [
    {
     "name": "stdout",
     "output_type": "stream",
     "text": [
      "0.06699719999999987\n"
     ]
    }
   ],
   "source": [
    "import timeit\n",
    "import random\n",
    "\n",
    "# Define an upper bound and a number of iterations\n",
    "eps = 1e-16\n",
    "N = 10000\n",
    "locations = [0.0, 0.5, 1.0 - eps]\n",
    "\n",
    "\n",
    "def median(x1, x2, x3):\n",
    "    \"\"\"\n",
    "    Input: Three numbers (int or float)\n",
    "    \n",
    "    Output: Median number of the three\n",
    "    \"\"\"\n",
    "    if (x1 < x2 < x3) or (x3 < x2 < x1):\n",
    "        return x2\n",
    "    elif (x1 < x3 < x2) or (x2 < x3 < x1):\n",
    "        return x3\n",
    "    else:\n",
    "        return x1\n",
    "\n",
    "def qsort(lst):\n",
    "    \"\"\"\n",
    "    Input: Unsorted list of floats or ints\n",
    "    \n",
    "    Output: Sorted list\n",
    "    \"\"\"\n",
    "    \n",
    "    # Define an iterable list of indices for the input\n",
    "    indices = [(0, len(lst))]\n",
    "    \n",
    "    while indices:\n",
    "        \n",
    "        # Define a tuple with 1st (0) and n-1-th indices of the list\n",
    "        (frm, to) = indices.pop()\n",
    "        if frm == to:\n",
    "            continue\n",
    "\n",
    "        # Find the partition:\n",
    "        N = to - frm # Number of elements in the partition\n",
    "        \n",
    "        # List of first, middle, and last indices of the list\n",
    "        inds = [frm + int(N * n) for n in locations]\n",
    "        \n",
    "        # List of the elements at the positions in inds\n",
    "        values = [lst[ind] for ind in inds]\n",
    "        \n",
    "        # Define partition as the median of the values at the three positions above\n",
    "        partition = median(*values)\n",
    "\n",
    "        # Split into lists:\n",
    "        # List all elements with values below the partition's (chosen median)\n",
    "        lower = [a for a in lst[frm:to] if a < partition]\n",
    "        # List all elements with values above the partition's\n",
    "        upper = [a for a in lst[frm:to] if a > partition]\n",
    "        \n",
    "        # Count the number of elements equal to the median in our list\n",
    "        counts = sum([1 for a in lst[frm:to] if a == partition])\n",
    "        \n",
    "        # Define the indices that limit the 'lower' (left) and the 'upper' (right) groups\n",
    "        ind1 = frm + len(lower)\n",
    "        ind2 = ind1 + counts\n",
    "\n",
    "        # Push back into correct place:\n",
    "        # Put all elements from the list in their positions according to their comparison with the median\n",
    "        lst[frm:ind1] = lower\n",
    "        lst[ind1:ind2] = [partition] * counts\n",
    "        lst[ind2:to] = upper\n",
    "\n",
    "        # Enqueue other locations\n",
    "        # Repeat the procedure for the subarrays until the lists are sorted (frm == to)\n",
    "        indices.append((frm, ind1))\n",
    "        indices.append((ind2, to))\n",
    "    return lst\n",
    "\n",
    "\n",
    "def randomized_quicksort():\n",
    "    \"\"\"\n",
    "    Input: None\n",
    "    \n",
    "    Output: Sorted list (from a randomly shuffled list of consecutive integers)\n",
    "    \"\"\"\n",
    "    lst = [i for i in range(N)]\n",
    "    random.shuffle(lst)\n",
    "    return qsort(lst)\n",
    "\n",
    "\n",
    "def test_quicksort():\n",
    "    \"\"\"\n",
    "    Checks whether our randomized quicksort algorithm works\n",
    "    \n",
    "    Input and Output: None\n",
    "    \"\"\"\n",
    "    lst = randomized_quicksort()\n",
    "    assert (lst == [i for i in range(N)])\n",
    "\n",
    "\n",
    "# Is our algorithm correct?\n",
    "test_quicksort()\n",
    "\n",
    "# How fast is our algorithm?\n",
    "print(timeit.timeit(randomized_quicksort, number=1))"
   ]
  },
  {
   "cell_type": "markdown",
   "metadata": {
    "deletable": false,
    "editable": false,
    "nbgrader": {
     "checksum": "61fb11bff1434e4b7276c7443b0267c6",
     "grade": false,
     "grade_id": "cell-a2b2429aa4e81403",
     "locked": true,
     "schema_version": 1,
     "solution": false
    }
   },
   "source": [
    "## Question 2.\n",
    "\n",
    "What are the main differences between the `randomized_quicksort` in the code and $RANDOMIZED-QUICKSORT$ in Cormen et al., besides that the partition of `randomized_quicksort` uses a median of 3 as a pivot?"
   ]
  },
  {
   "cell_type": "markdown",
   "metadata": {
    "deletable": false,
    "nbgrader": {
     "checksum": "8915b75d94bc194ba0f4e52e475063b4",
     "grade": true,
     "grade_id": "cell-4a3cd727ccac7404",
     "locked": false,
     "points": 0,
     "schema_version": 1,
     "solution": true
    }
   },
   "source": [
    "Besides the fact that the randomized partition chooses a random list element to swap with the last element (which is still used as pivot in the partition), we have that in Cormen's randomized-quicksort is recursive. In our code, we use a `while` loop to continuously perform the operations in the algorithm on the subarrays."
   ]
  },
  {
   "cell_type": "markdown",
   "metadata": {
    "deletable": false,
    "editable": false,
    "nbgrader": {
     "checksum": "5853f10cab01212736d0e92ce408fa97",
     "grade": false,
     "grade_id": "cell-49bff57d4018e133",
     "locked": true,
     "schema_version": 1,
     "solution": false
    }
   },
   "source": [
    "## Question 3.\n",
    "What is the time complexity of this `randomized_qsort`? Time the algorithm on lists of various lengths, each list being a list of the first $n$ consecutive positive integers. Produce a graph with list lengths on the x axis and running time on the y axis. As always, don’t forget to time the algorithm several times for each list’s length and then average the results. "
   ]
  },
  {
   "cell_type": "code",
   "execution_count": 3,
   "metadata": {
    "deletable": false,
    "nbgrader": {
     "checksum": "a321a7fcecb9c9cce252ea2c6030d4ce",
     "grade": true,
     "grade_id": "cell-e0e1dac71ac7feb6",
     "locked": false,
     "points": 0,
     "schema_version": 1,
     "solution": true
    }
   },
   "outputs": [],
   "source": [
    "import time\n",
    "import matplotlib.pyplot as plt\n",
    "\n",
    "trials = 10\n",
    "n = 100\n",
    "\n",
    "def qsort_one(lst):\n",
    "    \"\"\"\n",
    "    Input: Unsorted list of floats or ints\n",
    "    \n",
    "    Output: Sorted list\n",
    "    \"\"\"\n",
    "    \n",
    "    # Define an iterable list of indices for the input\n",
    "    indices = [(0, len(lst))]\n",
    "    \n",
    "    while indices:\n",
    "        \n",
    "        # Define a tuple with 1st (0) and n-1-th indices of the list\n",
    "        (frm, to) = indices.pop()\n",
    "        if frm == to:\n",
    "            continue\n",
    "\n",
    "        # Find the partition:\n",
    "        N = to - frm # Number of elements in the partition\n",
    "        \n",
    "        # List of first, middle, and last indices of the list\n",
    "        inds = [frm + int(N * n) for n in locations]\n",
    "        \n",
    "        # List of the elements at the positions in inds\n",
    "        values = [lst[ind] for ind in inds]\n",
    "        \n",
    "        # Define partition as the median of the values at the three positions above\n",
    "        partition = median(*values)\n",
    "\n",
    "        # Split into lists:\n",
    "        # List all elements with values below the partition's (chosen median)\n",
    "        lower = [a for a in lst[frm:to] if a < partition]\n",
    "        # List all elements with values above the partition's\n",
    "        upper = [a for a in lst[frm:to] if a > partition]\n",
    "        \n",
    "        # Count the number of elements equal to the median in our list\n",
    "        counts = sum([1 for a in lst[frm:to] if a == partition])\n",
    "        \n",
    "        # Define the indices that limit the 'lower' (left) and the 'upper' (right) groups\n",
    "        ind1 = frm + len(lower)\n",
    "        ind2 = ind1 + counts\n",
    "\n",
    "        # Push back into correct place:\n",
    "        # Put all elements from the list in their positions according to their comparison with the median\n",
    "        lst[frm:ind1] = lower\n",
    "        lst[ind1:ind2] = [partition] * counts\n",
    "        lst[ind2:to] = upper\n",
    "\n",
    "        # Enqueue other locations\n",
    "        # Repeat the procedure for the subarrays until the lists are sorted (frm == to)\n",
    "        indices.append((frm, ind1))\n",
    "        indices.append((ind2, to))\n",
    "    return lst\n",
    "\n",
    "def randomized_quicksort_lst(lst):\n",
    "    \"\"\"\n",
    "    Input: Some list\n",
    "    \n",
    "    Output: Sorted list\n",
    "    \"\"\"\n",
    "    random.shuffle(lst)\n",
    "    return qsort_one(lst)\n",
    "\n",
    "avg_runtimes = []\n",
    "\n",
    "for i in range(1, n):\n",
    "    runtimes = []\n",
    "    \n",
    "    # Define lists of different input sizes with the first positive integers up to n\n",
    "    for trial in range(trials):\n",
    "        list_n = [j for j in range(1, i*100, 1)]\n",
    "\n",
    "        starting_time = time.time()\n",
    "        randomized_quicksort_lst(list_n)   \n",
    "        ending_time = time.time()\n",
    "        runtimes.append(ending_time - starting_time)\n",
    "    avg_runtimes.append(sum(runtimes)/len(runtimes))\n"
   ]
  },
  {
   "cell_type": "code",
   "execution_count": 4,
   "metadata": {},
   "outputs": [
    {
     "data": {
      "image/png": "[encoded data removed]",
      "text/plain": [
       "<Figure size 432x288 with 1 Axes>"
      ]
     },
     "metadata": {
      "needs_background": "light"
     },
     "output_type": "display_data"
    }
   ],
   "source": [
    "plt.plot([i for i in range(1, n)], avg_runtimes, 'g', label='Randomly shuffled lists of length n')\n",
    "\n",
    "plt.xlabel(\"Input size (hundreds)\")\n",
    "plt.ylabel(\"Time (s)\")\n",
    "plt.legend()\n",
    "plt.show()"
   ]
  },
  {
   "cell_type": "markdown",
   "metadata": {
    "deletable": false,
    "editable": false,
    "nbgrader": {
     "checksum": "b8751f930d9dc208113425646ea7fea8",
     "grade": false,
     "grade_id": "cell-1e8309c07c2f2908",
     "locked": true,
     "schema_version": 1,
     "solution": false
    }
   },
   "source": [
    "## Question 4.\n",
    "\n",
    "### Question 4a.\n",
    "\n",
    "Change the `qsort()` function in a way that you **don’t** separate the items that are equal to the partition. \n"
   ]
  },
  {
   "cell_type": "code",
   "execution_count": 5,
   "metadata": {
    "deletable": false,
    "nbgrader": {
     "checksum": "797888f53fa36bcf0f9d891c4819d8e9",
     "grade": false,
     "grade_id": "cell-a9d1f063c0340b14",
     "locked": false,
     "schema_version": 1,
     "solution": true
    }
   },
   "outputs": [],
   "source": [
    "def qsort(lst):\n",
    "    \"\"\"\n",
    "    Input: Unsorted list of floats or ints\n",
    "    \n",
    "    Output: Sorted list\n",
    "    \"\"\"\n",
    "    \n",
    "    # Define an iterable list of indices for the input\n",
    "    indices = [(0, len(lst))]\n",
    "    \n",
    "    while indices:\n",
    "        \n",
    "        # Define a tuple with 1st (0) and n-1-th indices of the list\n",
    "        (frm, to) = indices.pop()\n",
    "        if frm == to:\n",
    "            continue\n",
    "\n",
    "        # Find the partition:\n",
    "        N = to - frm # Number of elements in the partition\n",
    "        \n",
    "        # List of first, middle, and last indices of the list\n",
    "        inds = [frm + int(N * n) for n in locations]\n",
    "        \n",
    "        # List of the elements at the positions in inds\n",
    "        values = [lst[ind] for ind in inds]\n",
    "        \n",
    "        # Define partition as the median of the values at the three positions above\n",
    "        partition = median(*values)\n",
    "\n",
    "        # Split into lists:\n",
    "        # List all elements with values below the partition's (chosen median)\n",
    "        lower = [a for a in lst[frm:to] if a < partition]\n",
    "        # List all elements with values above the partition's\n",
    "        upper = [a for a in lst[frm:to] if a > partition]\n",
    "        \n",
    "        # Count the number of elements equal to the median in our list\n",
    "        counts = sum([1 for a in lst[frm:to] if a == partition])\n",
    "        \n",
    "        # Define the indices that limit the 'lower' (left) and the 'upper' (right) groups\n",
    "        ind1 = frm + len(lower)\n",
    "        ind2 = ind1 + counts\n",
    "\n",
    "        # Push back into correct place:\n",
    "        # Put all elements from the list in their positions according to their comparison with the median\n",
    "        \"\"\"\n",
    "        We don't separate the elements equal to the partition, as they are already sorted\n",
    "        \"\"\"\n",
    "        lst[frm:ind1] = lower\n",
    "        lst[ind2:to] = upper\n",
    "\n",
    "        # Enqueue other locations\n",
    "        # Repeat the procedure for the subarrays until the lists are sorted (frm == to)\n",
    "        indices.append((frm, ind1))\n",
    "        indices.append((ind2, to))\n",
    "    return lst"
   ]
  },
  {
   "cell_type": "code",
   "execution_count": 6,
   "metadata": {
    "deletable": false,
    "editable": false,
    "nbgrader": {
     "checksum": "ce755b787f1b82629d627d2f8bea66a5",
     "grade": true,
     "grade_id": "cell-2c0cbd296d612f85",
     "locked": true,
     "points": 1,
     "schema_version": 1,
     "solution": false
    }
   },
   "outputs": [],
   "source": [
    "assert(qsort([4,2,1])==[1,2,4])\n",
    "assert(qsort([0])==[0])"
   ]
  },
  {
   "cell_type": "markdown",
   "metadata": {
    "deletable": false,
    "editable": false,
    "nbgrader": {
     "checksum": "3f5f9ca976fb636978e2bdfda98a5eeb",
     "grade": false,
     "grade_id": "cell-76883a453f020d72",
     "locked": true,
     "schema_version": 1,
     "solution": false
    }
   },
   "source": [
    "### Question 4b.\n",
    "\n",
    "Now time the algorithm on the same inputs you have used in question 3, adding one more line in the previous graph you have produced. "
   ]
  },
  {
   "cell_type": "code",
   "execution_count": 7,
   "metadata": {
    "deletable": false,
    "nbgrader": {
     "checksum": "33188fb282e53d117dfe275067ad3567",
     "grade": true,
     "grade_id": "cell-31ee807cec9ce8bf",
     "locked": false,
     "points": 0,
     "schema_version": 1,
     "solution": true
    }
   },
   "outputs": [],
   "source": [
    "def qsort_updated(lst):\n",
    "    \"\"\"\n",
    "    Input: Unsorted list of floats or ints\n",
    "    \n",
    "    Output: Sorted list\n",
    "    \"\"\"\n",
    "    \n",
    "    # Define an iterable list of indices for the input\n",
    "    indices = [(0, len(lst))]\n",
    "    \n",
    "    while indices:\n",
    "        \n",
    "        # Define a tuple with 1st (0) and n-1-th indices of the list\n",
    "        (frm, to) = indices.pop()\n",
    "        if frm == to:\n",
    "            continue\n",
    "\n",
    "        # Find the partition:\n",
    "        N = to - frm # Number of elements in the partition\n",
    "        \n",
    "        # List of first, middle, and last indices of the list\n",
    "        inds = [frm + int(N * n) for n in locations]\n",
    "        \n",
    "        # List of the elements at the positions in inds\n",
    "        values = [lst[ind] for ind in inds]\n",
    "        \n",
    "        # Define partition as the median of the values at the three positions above\n",
    "        partition = median(*values)\n",
    "\n",
    "        # Split into lists:\n",
    "        # List all elements with values below the partition's (chosen median)\n",
    "        lower = [a for a in lst[frm:to] if a < partition]\n",
    "        # List all elements with values above the partition's\n",
    "        upper = [a for a in lst[frm:to] if a > partition]\n",
    "        \n",
    "        # Count the number of elements equal to the median in our list\n",
    "        counts = sum([1 for a in lst[frm:to] if a == partition])\n",
    "        \n",
    "        # Define the indices that limit the 'lower' (left) and the 'upper' (right) groups\n",
    "        ind1 = frm + len(lower)\n",
    "        ind2 = ind1 + counts\n",
    "\n",
    "        # Push back into correct place:\n",
    "        # Put all elements from the list in their positions according to their comparison with the median\n",
    "        \"\"\"\n",
    "        We don't separate the elements equal to the partition, as they are already sorted\n",
    "        \"\"\"\n",
    "        lst[frm:ind1] = lower\n",
    "        lst[ind2:to] = upper\n",
    "\n",
    "        # Enqueue other locations\n",
    "        # Repeat the procedure for the subarrays until the lists are sorted (frm == to)\n",
    "        indices.append((frm, ind1))\n",
    "        indices.append((ind2, to))\n",
    "    return lst\n",
    "\n",
    "def randomized_quicksort_updated(lst):\n",
    "    \"\"\"\n",
    "    Input: None\n",
    "    \n",
    "    Output: Sorted list (from a randomly shuffled list of consecutive integers)\n",
    "    \"\"\"\n",
    "    random.shuffle(lst)\n",
    "    return qsort_updated(lst)\n",
    "\n",
    "avg_runtimes_prime = []\n",
    "\n",
    "for i in range(1, n):\n",
    "    runtimes_prime = []\n",
    "    for trial in range(trials):\n",
    "        list_k = []\n",
    "        # Generate random list with values constrained by the size of the input\n",
    "        for j in range(1, 100*i):\n",
    "            el = random.randint(1,j)\n",
    "            list_k.append(el)\n",
    "        starting_time1 = time.time()\n",
    "        randomized_quicksort_updated(list_k)   \n",
    "        ending_time1 = time.time()\n",
    "        runtimes_prime.append(ending_time1 - starting_time1)\n",
    "    avg_runtimes_prime.append(sum(runtimes_prime)/len(runtimes_prime))"
   ]
  },
  {
   "cell_type": "code",
   "execution_count": 8,
   "metadata": {},
   "outputs": [
    {
     "data": {
      "image/png": "[encoded data removed]",
      "text/plain": [
       "<Figure size 432x288 with 1 Axes>"
      ]
     },
     "metadata": {
      "needs_background": "light"
     },
     "output_type": "display_data"
    }
   ],
   "source": [
    "plt.plot([i for i in range(1, n)], avg_runtimes, 'g', label='Quick sort with partition separation')\n",
    "plt.plot([i for i in range(1, n)], avg_runtimes_prime, 'r', label='Quick sort without partition separation \\n and repeated elements')\n",
    "\n",
    "plt.xlabel(\"Input size (hundreds)\")\n",
    "plt.ylabel(\"Time (s)\")\n",
    "plt.legend()\n",
    "plt.show()"
   ]
  },
  {
   "cell_type": "markdown",
   "metadata": {
    "deletable": false,
    "editable": false,
    "nbgrader": {
     "checksum": "991ee87c525d8fa29bd448aa80dbf243",
     "grade": false,
     "grade_id": "cell-b666e68e84dfce03",
     "locked": true,
     "schema_version": 1,
     "solution": false
    }
   },
   "source": [
    "## Question 5.\n",
    "\n",
    "### Question 5a.\n",
    "\n",
    "Remove the median-of-3 partitioning, and just use the first element in the array. "
   ]
  },
  {
   "cell_type": "code",
   "execution_count": 9,
   "metadata": {
    "deletable": false,
    "nbgrader": {
     "checksum": "90dbb100f881a2c9a61720a0753ca401",
     "grade": false,
     "grade_id": "cell-4daf36021c15eaf0",
     "locked": false,
     "schema_version": 1,
     "solution": true
    }
   },
   "outputs": [],
   "source": [
    "def qsort(lst):\n",
    "    \"\"\"\n",
    "    Input: Unsorted list of floats or ints\n",
    "    \n",
    "    This version of quicksort will use the first element in the array as the pivot\n",
    "    \n",
    "    Output: Sorted list\n",
    "    \"\"\"\n",
    "    \n",
    "    # Define an iterable list of indices for the input\n",
    "    indices = [(0, len(lst))]\n",
    "    \n",
    "    while indices:\n",
    "        \n",
    "        # Define a tuple with 1st (0) and n-1-th indices of the list\n",
    "        (frm, to) = indices.pop()\n",
    "        if frm == to:\n",
    "            continue\n",
    "\n",
    "        # Define partition as the first element of a subarray\n",
    "        partition = lst[frm]\n",
    "\n",
    "        # Split into lists:\n",
    "        # List all elements with values below the partition's (chosen median)\n",
    "        lower = [a for a in lst[frm:to] if a < partition]\n",
    "        # List all elements with values above the partition's\n",
    "        upper = [a for a in lst[frm:to] if a > partition]\n",
    "        \n",
    "        # Count the number of elements equal to the median in our list\n",
    "        counts = sum([1 for a in lst[frm:to] if a == partition])\n",
    "        \n",
    "        # Define the indices that limit the 'lower' (left) and the 'upper' (right) groups\n",
    "        ind1 = frm + len(lower)\n",
    "        ind2 = ind1 + counts\n",
    "\n",
    "        # Push back into correct place:\n",
    "        # Put all elements from the list in their positions according to their comparison with the median\n",
    "        \"\"\"\n",
    "        We now separate the elements equal to the partition again, otherwise \n",
    "        \"\"\"\n",
    "        lst[frm:ind1] = lower\n",
    "        lst[ind1:ind2] = [partition]*counts\n",
    "        lst[ind2:to] = upper\n",
    "\n",
    "        # Enqueue other locations\n",
    "        # Repeat the procedure for the subarrays until the lists are sorted (frm == to)\n",
    "        indices.append((frm, ind1))\n",
    "        indices.append((ind2, to))\n",
    "    return lst"
   ]
  },
  {
   "cell_type": "code",
   "execution_count": 10,
   "metadata": {
    "deletable": false,
    "editable": false,
    "nbgrader": {
     "checksum": "9d457eff304d19e031a8eabb4615ca3b",
     "grade": true,
     "grade_id": "cell-97473a9e0d12e745",
     "locked": true,
     "points": 1,
     "schema_version": 1,
     "solution": false
    }
   },
   "outputs": [],
   "source": [
    "assert(qsort([4,2,1])==[1,2,4])\n",
    "assert(qsort([0])==[0])"
   ]
  },
  {
   "cell_type": "markdown",
   "metadata": {
    "deletable": false,
    "editable": false,
    "nbgrader": {
     "checksum": "8f0166e7d0021886bb7176f35011a633",
     "grade": false,
     "grade_id": "cell-2ca71dd53b31262b",
     "locked": true,
     "schema_version": 1,
     "solution": false
    }
   },
   "source": [
    "### Question 5b.\n",
    "\n",
    "Does this change the running time of your algorithm? Justify your response with a graph. \n",
    "\n"
   ]
  },
  {
   "cell_type": "markdown",
   "metadata": {
    "deletable": false,
    "nbgrader": {
     "checksum": "bd863db414089f9ead9906b3c2c34a15",
     "grade": true,
     "grade_id": "cell-1f3a6df29d324853",
     "locked": false,
     "points": 0,
     "schema_version": 1,
     "solution": true
    }
   },
   "source": [
    "Not quite, as both algorithms have advantages that balance out. We know don't iteratively compute partition values for this version of quick-sort, but we do expect the medians to be \"better\" pivots on average than the first element of all subarrays. Alas, to find the median we need more computation power than for just selecting the first elements of the subarrays. <br>\n",
    "We can see from the graph that this quick-sort algorithm slightly trails the first version without repeated elements in the input, while still having larger runtime than the second version with inputs with repeated elements."
   ]
  },
  {
   "cell_type": "code",
   "execution_count": 11,
   "metadata": {},
   "outputs": [],
   "source": [
    "def qsort_3point0(lst):\n",
    "    \"\"\"\n",
    "    Input: Unsorted list of floats or ints\n",
    "    \n",
    "    This version of quicksort will use the first element in the array as the pivot\n",
    "    \n",
    "    Output: Sorted list\n",
    "    \"\"\"\n",
    "    \n",
    "    # Define an iterable list of indices for the input\n",
    "    indices = [(0, len(lst))]\n",
    "    \n",
    "    while indices:\n",
    "        \n",
    "        # Define a tuple with 1st (0) and n-1-th indices of the list\n",
    "        (frm, to) = indices.pop()\n",
    "        if frm == to:\n",
    "            continue\n",
    "\n",
    "        # Define partition as the first element of a subarray\n",
    "        partition = lst[frm]\n",
    "\n",
    "        # Split into lists:\n",
    "        # List all elements with values below the partition's (chosen median)\n",
    "        lower = [a for a in lst[frm:to] if a < partition]\n",
    "        # List all elements with values above the partition's\n",
    "        upper = [a for a in lst[frm:to] if a > partition]\n",
    "        \n",
    "        # Count the number of elements equal to the median in our list\n",
    "        counts = sum([1 for a in lst[frm:to] if a == partition])\n",
    "        \n",
    "        # Define the indices that limit the 'lower' (left) and the 'upper' (right) groups\n",
    "        ind1 = frm + len(lower)\n",
    "        ind2 = ind1 + counts\n",
    "\n",
    "        # Push back into correct place:\n",
    "        # Put all elements from the list in their positions according to their comparison with the median\n",
    "        \"\"\"\n",
    "        We now separate the elements equal to the partition again, otherwise \n",
    "        \"\"\"\n",
    "        lst[frm:ind1] = lower\n",
    "        lst[ind1:ind2] = [partition]*counts\n",
    "        lst[ind2:to] = upper\n",
    "\n",
    "        # Enqueue other locations\n",
    "        # Repeat the procedure for the subarrays until the lists are sorted (frm == to)\n",
    "        indices.append((frm, ind1))\n",
    "        indices.append((ind2, to))\n",
    "    return lst\n",
    "\n",
    "def randomized_quicksort_3point0(lst):\n",
    "    \"\"\"\n",
    "    Input: None\n",
    "    \n",
    "    Output: Sorted list (from a randomly shuffled list of consecutive integers)\n",
    "    \"\"\"\n",
    "    random.shuffle(lst)\n",
    "    return qsort_3point0(lst)\n",
    "\n",
    "avg_runtimes_3point0 = []\n",
    "\n",
    "for i in range(1, n):\n",
    "    runtimes_3point0 = []\n",
    "    \n",
    "    # Define lists of different input sizes with the first positive integers up to n\n",
    "    for trial in range(trials):\n",
    "        list_3point0 = [j for j in range(1, i*100, 1)]\n",
    "\n",
    "        starting_time2 = time.time()\n",
    "        randomized_quicksort_3point0(list_3point0)   \n",
    "        ending_time2 = time.time()\n",
    "        runtimes_3point0.append(ending_time2 - starting_time2)\n",
    "    avg_runtimes_3point0.append(sum(runtimes_3point0)/len(runtimes_3point0))"
   ]
  },
  {
   "cell_type": "code",
   "execution_count": 12,
   "metadata": {},
   "outputs": [
    {
     "data": {
      "image/png": "[encoded data removed]",
      "text/plain": [
       "<Figure size 432x288 with 1 Axes>"
      ]
     },
     "metadata": {
      "needs_background": "light"
     },
     "output_type": "display_data"
    }
   ],
   "source": [
    "plt.plot([i for i in range(1, n)], avg_runtimes, 'g', label='Quick sort with partition separation')\n",
    "plt.plot([i for i in range(1, n)], avg_runtimes_prime, 'r', label='Quick sort without partition separation \\n and repeated elements')\n",
    "plt.plot([i for i in range(1, n)], avg_runtimes_3point0, 'y', label='Quick sort 3.0')\n",
    "\n",
    "plt.xlabel(\"Input size (hundreds)\")\n",
    "plt.ylabel(\"Time (s)\")\n",
    "plt.legend()\n",
    "plt.show()"
   ]
  },
  {
   "cell_type": "markdown",
   "metadata": {
    "deletable": false,
    "editable": false,
    "nbgrader": {
     "checksum": "51af6d987694ab6231a6f4aa19f39164",
     "grade": false,
     "grade_id": "cell-67512d1d42af415f",
     "locked": true,
     "schema_version": 1,
     "solution": false
    }
   },
   "source": [
    "## Part B. Recursive quicksort. \n",
    "\n",
    "One main difference between the quicksort algorithms in Cormen et al. and the implementation in the code above is that quick sort (in the code in this notebook) is not recursive, while $QUICKSORT$ in Cormen et al. is. Given the limitation of Python so that it can only make 500 recursive calls, estimate the maximum size of the list that can be sorted by Python if a recursive quicksort is to be used. Explicitly state all assumptions you make in getting to an answer.\n"
   ]
  },
  {
   "cell_type": "markdown",
   "metadata": {
    "deletable": false,
    "nbgrader": {
     "checksum": "7be7bc411376ac8090621f3d68630c10",
     "grade": true,
     "grade_id": "cell-4af5aab4ad1a7225",
     "locked": false,
     "points": 0,
     "schema_version": 1,
     "solution": true
    }
   },
   "source": [
    "For this limitation in the number of recursive calls to determine a maximum size of the list to be sorted, we need to find the number of recursive calls for an input of size n. <br>\n",
    "We have two recursive calls for every call on recursive quicksort. Thus, for an input size of n, we have a binary tree with depth $\\log{n}$. This means we have $\\log{n}$ recursive calls, and so if we hold $\\log{n}\\leq500$, this means we have $n\\leq2^{500}$. <br>\n",
    "In this case, we assume there is a constant number of recursive calls for a given input size."
   ]
  }
 ],
 "metadata": {
  "kernelspec": {
   "display_name": "Python 3",
   "language": "python",
   "name": "python3"
  },
  "language_info": {
   "codemirror_mode": {
    "name": "ipython",
    "version": 3
   },
   "file_extension": ".py",
   "mimetype": "text/x-python",
   "name": "python",
   "nbconvert_exporter": "python",
   "pygments_lexer": "ipython3",
   "version": "3.7.3"
  }
 },
 "nbformat": 4,
 "nbformat_minor": 2
}
