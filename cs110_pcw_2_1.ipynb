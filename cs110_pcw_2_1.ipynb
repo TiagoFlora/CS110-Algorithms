{
 "cells": [
  {
   "cell_type": "markdown",
   "metadata": {},
   "source": [
    "Before you turn this problem in, make sure everything runs as expected. First, **restart the kernel** (in the menubar, select Kernel$\\rightarrow$Restart) and then **run all cells** (in the menubar, select Cell$\\rightarrow$Run All).\n",
    "\n",
    "Make sure you fill in any place that says `YOUR CODE HERE` or \"YOUR ANSWER HERE\", as well as your name and collaborators below:"
   ]
  },
  {
   "cell_type": "code",
   "execution_count": 1,
   "metadata": {},
   "outputs": [],
   "source": [
    "NAME = \"Tiago Flora\"\n",
    "COLLABORATORS = [\"Ara Mkhoyan\", \"Cameron Watts\", \"Chloe Gabrielle Go\"]"
   ]
  },
  {
   "cell_type": "markdown",
   "metadata": {},
   "source": [
    "---"
   ]
  },
  {
   "cell_type": "markdown",
   "metadata": {
    "deletable": false,
    "editable": false,
    "nbgrader": {
     "checksum": "4394bdd5d17d8ce7ce4e758066ee0266",
     "grade": false,
     "grade_id": "cell-9e44910e5a73668d",
     "locked": true,
     "schema_version": 1,
     "solution": false
    }
   },
   "source": [
    "# CS110 Pre-class Work 2.1\n",
    "\n",
    "## Question 1.\n",
    "\n",
    "First, please read carefully [this note](https://drive.google.com/open?id=1SfrRTKWDb6szsJENgvNF7-u2B96ecaF2) which reviews the MERGE operation in Cormen et al.\n",
    "\n",
    "After reviewing the example above (Cormen et. al., Figure 2.3),  you need to manually create similar illustrations as in the example above but this time for the input array:\n",
    "\n",
    "![array](array.png)\n",
    "\n",
    "For this exercise, assume that the call to the algorithm is MERGE(A, 1, 3, 6) and draw different resulting stages of the arrays A, L, and R as the merge algorithm is executed.  You can hand-draw or use any drawing tool to produce panel illustrations as in the example above.  Include your final drawings in the cell below. Feel free to use additional cells (Markdown or Code) for this question.\n"
   ]
  },
  {
   "cell_type": "markdown",
   "metadata": {
    "deletable": false,
    "nbgrader": {
     "checksum": "b4d0caf51fb6b587f68db4e806af35d0",
     "grade": true,
     "grade_id": "cell-badbff7790708987",
     "locked": false,
     "points": 0,
     "schema_version": 1,
     "solution": true
    }
   },
   "source": [
    "![img](https://i.ibb.co/k6ffpmv/Page1.jpg)"
   ]
  },
  {
   "cell_type": "markdown",
   "metadata": {},
   "source": [
    "![img](https://i.ibb.co/HPHbC59/Page2.jpg)"
   ]
  },
  {
   "cell_type": "markdown",
   "metadata": {
    "deletable": false,
    "editable": false,
    "nbgrader": {
     "checksum": "7c9608898d23ecbe07c084ca6d6da655",
     "grade": false,
     "grade_id": "cell-6dd1317d1ea8ab9f",
     "locked": true,
     "schema_version": 1,
     "solution": false
    }
   },
   "source": [
    "## Question 2.\n",
    "Now using your understanding of Part I of the merge algorithm, can you think of an efficient way to implement this part in Python? (hint: using Python list). Give your answer in prose in the cell below."
   ]
  },
  {
   "cell_type": "markdown",
   "metadata": {
    "deletable": false,
    "nbgrader": {
     "checksum": "9bf35550640c33f366c5cffad7fdf33a",
     "grade": true,
     "grade_id": "cell-4f961721620a6645",
     "locked": false,
     "points": 0,
     "schema_version": 1,
     "solution": true
    }
   },
   "source": [
    "First, one defines the (empty) left and right arrays (using lists), which are to be filled with the values of the array A until and after q, respectively. Then, in the desired range (from A[1] to A[n1] and from A[n1+1] to A[n2]), we append the elements of A onto the L and R arrays (using the .append() function). At last, we assign the last elements of the L and R arrays to be float(math.inf), so no value will be larger than the sentinel values."
   ]
  },
  {
   "cell_type": "markdown",
   "metadata": {
    "deletable": false,
    "editable": false,
    "nbgrader": {
     "checksum": "010584ea3a4f00fba43b52bb04cd0ed2",
     "grade": false,
     "grade_id": "cell-84932c7c0c20b750",
     "locked": true,
     "schema_version": 1,
     "solution": false
    }
   },
   "source": [
    "## Question 3.\n",
    "\n",
    "Write a Python implementation of the merge pseudocode (both parts), your Python function must take the same four input arguments as described in the $MERGE(A,p,q,r)$. Test your code by running the example in problem 1 and 2 of this pre-class work. Feel free to come up with additional cases to check if your code is working properly. Your code should return A "
   ]
  },
  {
   "cell_type": "code",
   "execution_count": 2,
   "metadata": {
    "deletable": false,
    "nbgrader": {
     "checksum": "43760e27d0b385c30476353b3d546a79",
     "grade": false,
     "grade_id": "cell-a67719d65c1ac9f3",
     "locked": false,
     "schema_version": 1,
     "solution": true
    }
   },
   "outputs": [],
   "source": [
    "import math\n",
    "count_steps = 0\n",
    "\n",
    "def merge(A, p, q, r):\n",
    "    # Define global variable for counting steps\n",
    "    global count_steps \n",
    "    # Define n1 and n2, the ranges of the L and R subarrays\n",
    "    no = q - p\n",
    "    nt = r - q\n",
    "    # Create L and R\n",
    "    L = []\n",
    "    R = []\n",
    "    count_steps += 4\n",
    "    # Append the A elements left of q to L\n",
    "    for i in range(no+1):\n",
    "        L.append(A[p+i-1])\n",
    "        count_steps += 2\n",
    "    count_steps += 1\n",
    "#    print(L)\n",
    "    # Append the A elements right of q to R\n",
    "    for j in range(nt):\n",
    "        R.append(A[q+j])\n",
    "        count_steps += 2\n",
    "    count_steps += 1\n",
    "#    print(R)\n",
    "    # Define sentinel values\n",
    "    L.append(float(math.inf)) # Or we could have 2**(32)...\n",
    "    R.append(float(math.inf))\n",
    "    # Define indices to compare the elements of the L and R arrays\n",
    "    i = 0\n",
    "    j = 0\n",
    "    count_steps += 4\n",
    "    for k in range(p-1, r):\n",
    "        count_steps += 2\n",
    "        if L[i] <= R[j]:\n",
    "            count_steps += 1\n",
    "            A[k] = L[i]\n",
    "            i += 1\n",
    "        else:\n",
    "            A[k] = R[j]\n",
    "            j += 1\n",
    "            count_steps += 2\n",
    "    return A"
   ]
  },
  {
   "cell_type": "code",
   "execution_count": 3,
   "metadata": {},
   "outputs": [
    {
     "data": {
      "text/plain": [
       "[1, 3, 4, 2, 4, 5, 6, 10, 5]"
      ]
     },
     "execution_count": 3,
     "metadata": {},
     "output_type": "execute_result"
    }
   ],
   "source": [
    "B = [3,6,10,5,1,4,2,4,5]\n",
    "merge(B, 1, 4, 9)"
   ]
  },
  {
   "cell_type": "code",
   "execution_count": 4,
   "metadata": {
    "deletable": false,
    "editable": false,
    "nbgrader": {
     "checksum": "699908274975a6bff4f9fb021e666ce4",
     "grade": true,
     "grade_id": "cell-e98759fe14428af0",
     "locked": true,
     "points": 0,
     "schema_version": 1,
     "solution": false
    }
   },
   "outputs": [],
   "source": [
    "# Please ignore this cell. This cell is for us to implement the tests \n",
    "# to see if your code works properly. "
   ]
  },
  {
   "cell_type": "markdown",
   "metadata": {
    "deletable": false,
    "editable": false,
    "nbgrader": {
     "checksum": "35e241fec3dd026733d04a51fa2972fe",
     "grade": false,
     "grade_id": "cell-49f3f61ee6d72bb9",
     "locked": true,
     "schema_version": 1,
     "solution": false
    }
   },
   "source": [
    "## Question 2\n",
    "Suppose that your Python implementation of the merge algorithm is already working. Inspect the code for merge sort below:"
   ]
  },
  {
   "cell_type": "code",
   "execution_count": 5,
   "metadata": {
    "deletable": false,
    "editable": false,
    "nbgrader": {
     "checksum": "53611abb1448334a346783091382fb12",
     "grade": false,
     "grade_id": "cell-073a21c6aac8225e",
     "locked": true,
     "schema_version": 1,
     "solution": false
    }
   },
   "outputs": [],
   "source": [
    "def merge_sort(A,p,r):\n",
    "    if p < r:\n",
    "        q = (p+r)/2\n",
    "        merge_sort(A,p,q)\n",
    "        merge_sort(A,q+1,r)\n",
    "        merge(A,p,q,r)\n",
    "    return(A)"
   ]
  },
  {
   "cell_type": "markdown",
   "metadata": {
    "deletable": false,
    "editable": false,
    "nbgrader": {
     "checksum": "b708edb1e6e70731f3ec68d1d11c2890",
     "grade": false,
     "grade_id": "cell-c19a4320995e15b2",
     "locked": true,
     "schema_version": 1,
     "solution": false
    }
   },
   "source": [
    "Copy and paste the code above to the cell below and fix the bug in it. "
   ]
  },
  {
   "cell_type": "code",
   "execution_count": 6,
   "metadata": {
    "deletable": false,
    "nbgrader": {
     "checksum": "d52aee435812fe91886c6dcdfc4e3f6d",
     "grade": false,
     "grade_id": "cell-311695db35c06d65",
     "locked": false,
     "schema_version": 1,
     "solution": true
    }
   },
   "outputs": [],
   "source": [
    "def merge_sort(A,p,r):\n",
    "    # We ensure p, r and q will be integer values.\n",
    "    p = int(p)\n",
    "    r = int(r)\n",
    "    if p < r:\n",
    "        # q will always be the floor of the average of p and r if it is\n",
    "        # not an integer\n",
    "        q = math.floor((p+r)/2)\n",
    "        merge_sort(A,p,q)\n",
    "        merge_sort(A,q+1,r)\n",
    "        merge(A,p,q,r)\n",
    "    return(A)"
   ]
  },
  {
   "cell_type": "code",
   "execution_count": 7,
   "metadata": {},
   "outputs": [
    {
     "data": {
      "text/plain": [
       "[1, 2, 3, 4, 5, 6, 10, 11]"
      ]
     },
     "execution_count": 7,
     "metadata": {},
     "output_type": "execute_result"
    }
   ],
   "source": [
    "B = [10,3,6,5,11,4,2,1]\n",
    "merge_sort(B, 1, 8)"
   ]
  },
  {
   "cell_type": "code",
   "execution_count": 8,
   "metadata": {
    "deletable": false,
    "editable": false,
    "nbgrader": {
     "checksum": "35fbb3c437b3ba39ede0d87d6719223b",
     "grade": true,
     "grade_id": "cell-a3a71f67390c1f82",
     "locked": true,
     "points": 0,
     "schema_version": 1,
     "solution": false
    }
   },
   "outputs": [],
   "source": [
    "# Please ignore this cell. This cell is for us to implement the tests \n",
    "# to see if your code works properly. "
   ]
  },
  {
   "cell_type": "markdown",
   "metadata": {
    "deletable": false,
    "editable": false,
    "nbgrader": {
     "checksum": "61cfba995efe3c9c37092a650047fdf3",
     "grade": false,
     "grade_id": "cell-5b296f793fefdbfe",
     "locked": true,
     "schema_version": 1,
     "solution": false
    }
   },
   "source": [
    "# Question 5.\n",
    "As in the previous Lesson, count the number of steps and time your merge_sort() function with the following input: `list_k = [i for i in range(100*k, 0, -1)] `, where $k= 1, 2, 3, …, 15 $. \n"
   ]
  },
  {
   "cell_type": "code",
   "execution_count": 9,
   "metadata": {},
   "outputs": [],
   "source": [
    "# We redefine merge_sort to contain a step counter and return it\n",
    "def merge_sort(A,p,r):\n",
    "    global step_counter\n",
    "    p = int(p)\n",
    "    r = int(r)\n",
    "    step_counter += 1\n",
    "    if p < r:\n",
    "        q = math.floor((p+r)/2)\n",
    "        step_counter += 1\n",
    "        merge_sort(A,p,q)\n",
    "        merge_sort(A,q+1,r)\n",
    "        merge(A,p,q,r)\n",
    "    return(step_counter)"
   ]
  },
  {
   "cell_type": "code",
   "execution_count": 10,
   "metadata": {
    "deletable": false,
    "nbgrader": {
     "checksum": "cc3f59157e795d05422e849f3e7cc03a",
     "grade": true,
     "grade_id": "cell-8a4233ab58d3d0bb",
     "locked": false,
     "points": 0,
     "schema_version": 1,
     "solution": true
    }
   },
   "outputs": [
    {
     "name": "stdout",
     "output_type": "stream",
     "text": [
      "[298, 598, 898, 1198, 1498, 1798, 2098, 2398, 2698, 2998, 3298, 3598, 3898, 4198, 4498] [0.0009970664978027344, 0.0009975433349609375, 0.0019941329956054688, 0.0029926300048828125, 0.003989458084106445, 0.003989219665527344, 0.005983591079711914, 0.006017208099365234, 0.006981372833251953, 0.007977962493896484, 0.008943319320678711, 0.009973287582397461, 0.011003732681274414, 0.014445066452026367, 0.02378702163696289]\n"
     ]
    }
   ],
   "source": [
    "import time\n",
    "# Create arrays to store number of steps per list size and run time\n",
    "# per list size\n",
    "lst = []\n",
    "time_lst = []\n",
    "\n",
    "for k in range(15):\n",
    "    # Reset counter value to 0\n",
    "    step_counter = 0\n",
    "    list_k = list(range(100*(k+1), 0, -1))\n",
    "    # We use the time module to count the running time of each iteration\n",
    "    # of the algorithm\n",
    "    starting_time = time.time()\n",
    "    # We append to the step counter list the number of steps in every iteration\n",
    "    lst.append(merge_sort(list_k,1,len(list_k)))    \n",
    "    ending_time = time.time()\n",
    "    time_lst.append(ending_time-starting_time)\n",
    "\n",
    "print(lst, time_lst)"
   ]
  },
  {
   "cell_type": "markdown",
   "metadata": {},
   "source": [
    "# Question 6. \n",
    "Use the code you wrote for Lesson 1.2 (i.e., selection sort, bubble sort, insertion sort). Plot the following graphs:\n",
    "* **Graph 1**: 4 lines for **the number of steps** of each of the 4 sorting algorithms (i.e., selection sort, bubble sort, insertion sort, merge sort). Which algorithm performs best? Why? \n",
    "* **Graph 2**: 4 lines for **the timing** of each of the 4 sorting algorithms (i.e., selection sort, bubble sort, insertion sort, merge sort). Which algorithm performs best? Why?\n",
    "\n",
    "Using as many cells as you wish (code cells or markdown cells alike) to complete this question.\n"
   ]
  },
  {
   "cell_type": "code",
   "execution_count": 25,
   "metadata": {},
   "outputs": [],
   "source": [
    "def bubbleSort(A):\n",
    "    global step_counter_b\n",
    "    step_counter_b = 0\n",
    "    step_counter_b += 1\n",
    "    for i in range(len(A)):\n",
    "        step_counter_b += 2\n",
    "        # j must start at len(A)-1, and  move backwards\n",
    "        for j in range(len(A)-1, 0, -1):\n",
    "            step_counter_b += 3\n",
    "            # If an element is larger than the preceding number, they swap orders\n",
    "            if A[j] < A[j-1]:\n",
    "                step_counter_b += 1\n",
    "                A[j], A[j-1] = A[j-1], A[j]\n",
    "            j -= 1\n",
    "    return step_counter_b\n",
    "\n",
    "def insertionSort(A):\n",
    "    global step_counter_i\n",
    "    step_counter_i = 0\n",
    "    step_counter_i += 1\n",
    "    for j in range(len(A)):\n",
    "        step_counter_i += 5\n",
    "        key = A[j]\n",
    "        i= j-1\n",
    "        while i >= 0 and A[i]>key:\n",
    "            step_counter_i += 4\n",
    "            A[i+1] = A[i]\n",
    "            i -= 1\n",
    "        A[i+1] = key\n",
    "    return step_counter_i\n",
    "\n",
    "def selectionSort(A):\n",
    "    global step_counter_s\n",
    "    step_counter_s = 0\n",
    "    # Iterate over the whole array and assume an element is the smallest for comparison\n",
    "    step_counter_s += 1\n",
    "    for i in range(len(A)):\n",
    "        step_counter_s += 2\n",
    "        minidx = i\n",
    "        for j in range(len(A)):\n",
    "            step_counter_s += 2\n",
    "            # For every next element, compare it to the current one\n",
    "            if A[j] > A[minidx]:\n",
    "                step_counter_s += 1\n",
    "                # If any element is smaller, the minimum element is now assumed to be it\n",
    "                minidx = j\n",
    "            # Swap the positions of the original element being compared (A[i]) and the new minimum\n",
    "            A[i], A[minidx] = A[minidx], A[i]\n",
    "    return step_counter_s"
   ]
  },
  {
   "cell_type": "code",
   "execution_count": 26,
   "metadata": {
    "deletable": false,
    "nbgrader": {
     "checksum": "0561f29260f91795736500d62066a4c7",
     "grade": true,
     "grade_id": "cell-d09efb7c7fe55e69",
     "locked": false,
     "points": 0,
     "schema_version": 1,
     "solution": true
    }
   },
   "outputs": [],
   "source": [
    "# We create lists for all algorithms\n",
    "time_bubble = []\n",
    "time_insert = []\n",
    "time_select = []\n",
    "steps_bubble = []\n",
    "steps_insert = []\n",
    "steps_select = []\n",
    "\n",
    "for k in range(15):\n",
    "    step_counter_b = 0\n",
    "    list_k = list(range(100*(k+1), 0, -1))\n",
    "    starting_time = time.time()\n",
    "    steps_bubble.append(bubbleSort(list_k))    \n",
    "    ending_time = time.time()\n",
    "    time_bubble.append(ending_time-starting_time)\n",
    "    \n",
    "for k in range(15):\n",
    "    step_counter_i = 0\n",
    "    list_k = list(range(100*(k+1), 0, -1))\n",
    "    starting_time = time.time()\n",
    "    steps_insert.append(insertionSort(list_k))    \n",
    "    ending_time = time.time()\n",
    "    time_insert.append(ending_time-starting_time)\n",
    "\n",
    "for k in range(15):\n",
    "    step_counter_s = 0\n",
    "    list_k = list(range(100*(k+1), 0, -1))\n",
    "    starting_time = time.time()\n",
    "    steps_select.append(selectionSort(list_k))    \n",
    "    ending_time = time.time()\n",
    "    time_select.append(ending_time-starting_time)"
   ]
  },
  {
   "cell_type": "code",
   "execution_count": 27,
   "metadata": {},
   "outputs": [],
   "source": [
    "import matplotlib.pyplot as plt\n",
    "import numpy"
   ]
  },
  {
   "cell_type": "code",
   "execution_count": 33,
   "metadata": {},
   "outputs": [
    {
     "data": {
      "image/png": "[encoded data removed]",
      "text/plain": [
       "<Figure size 432x288 with 1 Axes>"
      ]
     },
     "metadata": {
      "needs_background": "light"
     },
     "output_type": "display_data"
    }
   ],
   "source": [
    "%matplotlib inline\n",
    "# Define k to be an array with integers from 1 to 15\n",
    "k = list(range(1, 16))\n",
    "\n",
    "plt.plot(k, steps_select, label=\"Selection Sort\")\n",
    "plt.plot(k, steps_bubble, label=\"Bubble Sort\")\n",
    "plt.plot(k, steps_insert, label=\"Insertion Sort\")\n",
    "plt.plot(k, lst, label=\"Merge Sort\")\n",
    "plt.xlabel('k (Length of descending list / 100)')\n",
    "plt.ylabel('Steps')\n",
    "plt.title('Graph 1 \\n A comparison of steps against k for different sorting algorithms')\n",
    "plt.legend()\n",
    "plt.show()"
   ]
  },
  {
   "cell_type": "code",
   "execution_count": 34,
   "metadata": {},
   "outputs": [
    {
     "data": {
      "image/png": "[encoded data removed]",
      "text/plain": [
       "<Figure size 432x288 with 1 Axes>"
      ]
     },
     "metadata": {
      "needs_background": "light"
     },
     "output_type": "display_data"
    }
   ],
   "source": [
    "%matplotlib inline\n",
    "\n",
    "k = list(range(1, 16))\n",
    "\n",
    "plt.plot(k, time_select, label = \"Selection Sort\")\n",
    "plt.plot(k, time_bubble, label = \"Bubble Sort\")\n",
    "plt.plot(k, time_insert, label = \"Insertion Sort\")\n",
    "plt.plot(k, time_lst, label = \"Merge Sort\")\n",
    "\n",
    "plt.xlabel('k (Length of descending list / 100)')\n",
    "plt.ylabel('Time (s)')\n",
    "plt.title('Graph 1 \\n A comparison of running time against k for different sorting algorithms')\n",
    "plt.legend()\n",
    "plt.show()"
   ]
  }
 ],
 "metadata": {
  "kernelspec": {
   "display_name": "Python 3",
   "language": "python",
   "name": "python3"
  },
  "language_info": {
   "codemirror_mode": {
    "name": "ipython",
    "version": 3
   },
   "file_extension": ".py",
   "mimetype": "text/x-python",
   "name": "python",
   "nbconvert_exporter": "python",
   "pygments_lexer": "ipython3",
   "version": "3.7.3"
  }
 },
 "nbformat": 4,
 "nbformat_minor": 2
}
